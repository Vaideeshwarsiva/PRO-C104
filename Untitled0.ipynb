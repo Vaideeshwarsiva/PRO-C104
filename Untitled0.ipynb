{
  "nbformat": 4,
  "nbformat_minor": 0,
  "metadata": {
    "colab": {
      "name": "Untitled0.ipynb",
      "provenance": [],
      "authorship_tag": "ABX9TyPxxG0+dzjT/BG5Lf7QnMWo",
      "include_colab_link": true
    },
    "kernelspec": {
      "name": "python3",
      "display_name": "Python 3"
    },
    "language_info": {
      "name": "python"
    }
  },
  "cells": [
    {
      "cell_type": "markdown",
      "metadata": {
        "id": "view-in-github",
        "colab_type": "text"
      },
      "source": [
        "<a href=\"https://colab.research.google.com/github/Vaideeshwarsiva/PRO-C104/blob/main/Untitled0.ipynb\" target=\"_parent\"><img src=\"https://colab.research.google.com/assets/colab-badge.svg\" alt=\"Open In Colab\"/></a>"
      ]
    },
    {
      "cell_type": "code",
      "execution_count": null,
      "metadata": {
        "colab": {
          "base_uri": "https://localhost:8080/"
        },
        "id": "BXFeM0p8ZJir",
        "outputId": "73ef3121-4726-4eef-cb03-c650aedbd9f7"
      },
      "outputs": [
        {
          "output_type": "stream",
          "name": "stdout",
          "text": [
            "dict_items([('H', 1), ('e', 3), ('w', 3), ('o', 8), ('f', 8), ('j', 4), ('a', 4), ('i', 4), ('s', 2), ('h', 4)])\n",
            "Counter({'o': 8, 'f': 8, 'j': 4, 'a': 4, 'i': 4, 'h': 4, 'e': 3, 'w': 3, 's': 2, 'H': 1})\n",
            "dict_values([1, 3, 3, 8, 8, 4, 4, 4, 2, 4])\n"
          ]
        }
      ],
      "source": [
        "from collections import Counter\n",
        "data = \"Hewofjaofjisohfoawijffhoeifjaofhaoifswoeh\"\n",
        "data_1 = Counter(data)\n",
        "new_list = data_1.items()\n",
        "print(new_list)\n",
        "print(data_1)\n",
        "value = data_1.values()\n",
        "print(value)"
      ]
    },
    {
      "cell_type": "code",
      "source": [
        "import csv\n",
        "with open('SOCR.csv', newline=\"\") as f:\n",
        "  reader = csv.reader(f)\n",
        "  file_data = list(reader)\n",
        "\n",
        "file_data.pop(0)\n",
        "new_data = []\n",
        "for i in range(len(file_data)):\n",
        "  n_num = file_data[i][1]\n",
        "  new_data.append(float(n_num))"
      ],
      "metadata": {
        "id": "TQxwVkThcM4h"
      },
      "execution_count": null,
      "outputs": []
    },
    {
      "cell_type": "code",
      "source": [
        "n = len(new_data)\n",
        "total = 0\n",
        "for x in new_data:\n",
        "  total += x\n",
        "\n",
        "mean = total/n\n",
        "print(mean)"
      ],
      "metadata": {
        "colab": {
          "base_uri": "https://localhost:8080/"
        },
        "id": "E4U1ioW5dCK7",
        "outputId": "a1c64c3b-f59e-45d0-d13e-3eaa813cd3d8"
      },
      "execution_count": null,
      "outputs": [
        {
          "output_type": "stream",
          "name": "stdout",
          "text": [
            "67.99311359679979\n"
          ]
        }
      ]
    },
    {
      "cell_type": "code",
      "source": [
        "new_data.sort()\n",
        "\n",
        "if n % 2 == 0:\n",
        "  median1 = float(new_data[n // 2])\n",
        "  median2 = float(new_data[n // 2 + 1])\n",
        "\n",
        "  median = (median1 + median2) / 2\n",
        "\n",
        "else:\n",
        "  median = new_data[n // 2]\n",
        "\n",
        "print(median)"
      ],
      "metadata": {
        "colab": {
          "base_uri": "https://localhost:8080/"
        },
        "id": "QPXlU7ifdU0K",
        "outputId": "4ad2f730-c72f-432d-b007-47d7b6b5f1e6"
      },
      "execution_count": null,
      "outputs": [
        {
          "output_type": "stream",
          "name": "stdout",
          "text": [
            "67.995945\n"
          ]
        }
      ]
    },
    {
      "cell_type": "code",
      "source": [
        "data = Counter(new_data)\n",
        "\n",
        "mode_data = {\"75-85\":0, \"85-95\":0}\n",
        "for height, occurens in data.items():\n",
        "  if 75 < float(height) < 85:\n",
        "    mode_data[\"75-85\"] += occurens\n",
        "  elif 85 < float(height) < 95:\n",
        "    mode_data[\"85-95\"] += occurens\n",
        "\n",
        "mode_range, mode_occurens = 0,0\n",
        "for range, occurens in mode_data.items():\n",
        "  if occurens > mode_occurens:\n",
        "    mode_range, mode_occurens = [int(range.split(\"-\")[0]), int(range.split(\"-\")[1])], occurens\n",
        "\n",
        "mode = float((mode_range[0] + mode_range[1]) / 2)\n",
        "print(f'{mode: 2f}')\n"
      ],
      "metadata": {
        "colab": {
          "base_uri": "https://localhost:8080/"
        },
        "id": "_qJar4WZhsbx",
        "outputId": "258a7363-9485-4bb8-9510-2cd84246ddbc"
      },
      "execution_count": null,
      "outputs": [
        {
          "output_type": "stream",
          "name": "stdout",
          "text": [
            " 80.000000\n"
          ]
        }
      ]
    }
  ]
}